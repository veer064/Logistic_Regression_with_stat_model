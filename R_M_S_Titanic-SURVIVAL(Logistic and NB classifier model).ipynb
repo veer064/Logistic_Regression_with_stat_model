{
 "cells": [
  {
   "cell_type": "markdown",
   "metadata": {},
   "source": [
    "# Importing necessary libs and packages"
   ]
  },
  {
   "cell_type": "code",
   "execution_count": 1,
   "metadata": {},
   "outputs": [],
   "source": [
    "import pandas as pd\n",
    "import os\n",
    "import numpy as np\n",
    "import seaborn as sns\n",
    "import matplotlib.pyplot as plt\n",
    "%matplotlib inline"
   ]
  },
  {
   "cell_type": "markdown",
   "metadata": {},
   "source": [
    "# Loading data from titanic dataset"
   ]
  },
  {
   "cell_type": "code",
   "execution_count": 2,
   "metadata": {},
   "outputs": [],
   "source": [
    "ship = pd.read_csv(\"titanic.csv\", sep = '\\t')"
   ]
  },
  {
   "cell_type": "code",
   "execution_count": 3,
   "metadata": {
    "scrolled": true
   },
   "outputs": [
    {
     "data": {
      "text/html": [
       "<div>\n",
       "<style scoped>\n",
       "    .dataframe tbody tr th:only-of-type {\n",
       "        vertical-align: middle;\n",
       "    }\n",
       "\n",
       "    .dataframe tbody tr th {\n",
       "        vertical-align: top;\n",
       "    }\n",
       "\n",
       "    .dataframe thead th {\n",
       "        text-align: right;\n",
       "    }\n",
       "</style>\n",
       "<table border=\"1\" class=\"dataframe\">\n",
       "  <thead>\n",
       "    <tr style=\"text-align: right;\">\n",
       "      <th></th>\n",
       "      <th>PassengerId</th>\n",
       "      <th>Survived</th>\n",
       "      <th>Pclass</th>\n",
       "      <th>Name</th>\n",
       "      <th>Sex</th>\n",
       "      <th>Age</th>\n",
       "      <th>SibSp</th>\n",
       "      <th>Parch</th>\n",
       "      <th>Ticket</th>\n",
       "      <th>Fare</th>\n",
       "      <th>Cabin</th>\n",
       "      <th>Embarked</th>\n",
       "    </tr>\n",
       "  </thead>\n",
       "  <tbody>\n",
       "    <tr>\n",
       "      <th>0</th>\n",
       "      <td>1</td>\n",
       "      <td>0</td>\n",
       "      <td>3</td>\n",
       "      <td>Braund, Mr. Owen Harris</td>\n",
       "      <td>male</td>\n",
       "      <td>22.0</td>\n",
       "      <td>1</td>\n",
       "      <td>0</td>\n",
       "      <td>A/5 21171</td>\n",
       "      <td>7.2500</td>\n",
       "      <td>NaN</td>\n",
       "      <td>S</td>\n",
       "    </tr>\n",
       "    <tr>\n",
       "      <th>1</th>\n",
       "      <td>2</td>\n",
       "      <td>1</td>\n",
       "      <td>1</td>\n",
       "      <td>Cumings, Mrs. John Bradley (Florence Briggs Th...</td>\n",
       "      <td>female</td>\n",
       "      <td>38.0</td>\n",
       "      <td>1</td>\n",
       "      <td>0</td>\n",
       "      <td>PC 17599</td>\n",
       "      <td>71.2833</td>\n",
       "      <td>C85</td>\n",
       "      <td>C</td>\n",
       "    </tr>\n",
       "    <tr>\n",
       "      <th>2</th>\n",
       "      <td>3</td>\n",
       "      <td>1</td>\n",
       "      <td>3</td>\n",
       "      <td>Heikkinen, Miss. Laina</td>\n",
       "      <td>female</td>\n",
       "      <td>26.0</td>\n",
       "      <td>0</td>\n",
       "      <td>0</td>\n",
       "      <td>STON/O2. 3101282</td>\n",
       "      <td>7.9250</td>\n",
       "      <td>NaN</td>\n",
       "      <td>S</td>\n",
       "    </tr>\n",
       "    <tr>\n",
       "      <th>3</th>\n",
       "      <td>4</td>\n",
       "      <td>1</td>\n",
       "      <td>1</td>\n",
       "      <td>Futrelle, Mrs. Jacques Heath (Lily May Peel)</td>\n",
       "      <td>female</td>\n",
       "      <td>35.0</td>\n",
       "      <td>1</td>\n",
       "      <td>0</td>\n",
       "      <td>113803</td>\n",
       "      <td>53.1000</td>\n",
       "      <td>C123</td>\n",
       "      <td>S</td>\n",
       "    </tr>\n",
       "    <tr>\n",
       "      <th>4</th>\n",
       "      <td>5</td>\n",
       "      <td>0</td>\n",
       "      <td>3</td>\n",
       "      <td>Allen, Mr. William Henry</td>\n",
       "      <td>male</td>\n",
       "      <td>35.0</td>\n",
       "      <td>0</td>\n",
       "      <td>0</td>\n",
       "      <td>373450</td>\n",
       "      <td>8.0500</td>\n",
       "      <td>NaN</td>\n",
       "      <td>S</td>\n",
       "    </tr>\n",
       "  </tbody>\n",
       "</table>\n",
       "</div>"
      ],
      "text/plain": [
       "   PassengerId  Survived  Pclass  \\\n",
       "0            1         0       3   \n",
       "1            2         1       1   \n",
       "2            3         1       3   \n",
       "3            4         1       1   \n",
       "4            5         0       3   \n",
       "\n",
       "                                                Name     Sex   Age  SibSp  \\\n",
       "0                            Braund, Mr. Owen Harris    male  22.0      1   \n",
       "1  Cumings, Mrs. John Bradley (Florence Briggs Th...  female  38.0      1   \n",
       "2                             Heikkinen, Miss. Laina  female  26.0      0   \n",
       "3       Futrelle, Mrs. Jacques Heath (Lily May Peel)  female  35.0      1   \n",
       "4                           Allen, Mr. William Henry    male  35.0      0   \n",
       "\n",
       "   Parch            Ticket     Fare Cabin Embarked  \n",
       "0      0         A/5 21171   7.2500   NaN        S  \n",
       "1      0          PC 17599  71.2833   C85        C  \n",
       "2      0  STON/O2. 3101282   7.9250   NaN        S  \n",
       "3      0            113803  53.1000  C123        S  \n",
       "4      0            373450   8.0500   NaN        S  "
      ]
     },
     "execution_count": 3,
     "metadata": {},
     "output_type": "execute_result"
    }
   ],
   "source": [
    "ship.head() "
   ]
  },
  {
   "cell_type": "code",
   "execution_count": 4,
   "metadata": {},
   "outputs": [
    {
     "data": {
      "text/plain": [
       "(156, 12)"
      ]
     },
     "execution_count": 4,
     "metadata": {},
     "output_type": "execute_result"
    }
   ],
   "source": [
    "ship.shape"
   ]
  },
  {
   "cell_type": "code",
   "execution_count": 5,
   "metadata": {
    "scrolled": true
   },
   "outputs": [
    {
     "data": {
      "text/plain": [
       "Index(['PassengerId', 'Survived', 'Pclass', 'Name', 'Sex', 'Age', 'SibSp',\n",
       "       'Parch', 'Ticket', 'Fare', 'Cabin', 'Embarked'],\n",
       "      dtype='object')"
      ]
     },
     "execution_count": 5,
     "metadata": {},
     "output_type": "execute_result"
    }
   ],
   "source": [
    "ship.columns"
   ]
  },
  {
   "cell_type": "markdown",
   "metadata": {},
   "source": [
    "Data Dictionary\n",
    "---\n",
    "Understanding Data Variables.\n",
    "\n",
    "|Variable | What it is...|\n",
    "|---------|--------------|\n",
    "|__Survived:__ |    Survival (true = 1, False = 0)|\n",
    "|__PassengerId:__ | Unique Id of a passenger. | \n",
    "|__pclass:__ |   Ticket class|     \n",
    "|__sex:__| Sex (Male/Female)|     \n",
    "|__Age:__ |   Age in years|     \n",
    "|__sibsp:__|    # of siblings / spouses aboard the Titanic |    \n",
    "|__parch:__ |   # of parents / children aboard the Titanic |    \n",
    "|__ticket:__ |   Ticket number |    \n",
    "|__fare:__ |Passenger fare |    \n",
    "|__cabin:__ |   Cabin number |    \n",
    "|__embarked:__ |    Port of Embarkation |\n",
    "||(S: Southampton, C: Cherbourg, Q: Queenstown)|"
   ]
  },
  {
   "cell_type": "markdown",
   "metadata": {},
   "source": [
    "# Summary Statistics"
   ]
  },
  {
   "cell_type": "code",
   "execution_count": 6,
   "metadata": {
    "scrolled": true
   },
   "outputs": [
    {
     "name": "stdout",
     "output_type": "stream",
     "text": [
      "<class 'pandas.core.frame.DataFrame'>\n",
      "RangeIndex: 156 entries, 0 to 155\n",
      "Data columns (total 12 columns):\n",
      " #   Column       Non-Null Count  Dtype  \n",
      "---  ------       --------------  -----  \n",
      " 0   PassengerId  156 non-null    int64  \n",
      " 1   Survived     156 non-null    int64  \n",
      " 2   Pclass       156 non-null    int64  \n",
      " 3   Name         156 non-null    object \n",
      " 4   Sex          156 non-null    object \n",
      " 5   Age          126 non-null    float64\n",
      " 6   SibSp        156 non-null    int64  \n",
      " 7   Parch        156 non-null    int64  \n",
      " 8   Ticket       156 non-null    object \n",
      " 9   Fare         156 non-null    float64\n",
      " 10  Cabin        31 non-null     object \n",
      " 11  Embarked     155 non-null    object \n",
      "dtypes: float64(2), int64(5), object(5)\n",
      "memory usage: 14.8+ KB\n"
     ]
    }
   ],
   "source": [
    "ship.info()"
   ]
  },
  {
   "cell_type": "markdown",
   "metadata": {},
   "source": [
    "__*We can see that in 125 rows we have missing values under 'Cabin' column so, we can better drop th3 whole column.*__"
   ]
  },
  {
   "cell_type": "code",
   "execution_count": 7,
   "metadata": {},
   "outputs": [
    {
     "data": {
      "text/html": [
       "<div>\n",
       "<style scoped>\n",
       "    .dataframe tbody tr th:only-of-type {\n",
       "        vertical-align: middle;\n",
       "    }\n",
       "\n",
       "    .dataframe tbody tr th {\n",
       "        vertical-align: top;\n",
       "    }\n",
       "\n",
       "    .dataframe thead th {\n",
       "        text-align: right;\n",
       "    }\n",
       "</style>\n",
       "<table border=\"1\" class=\"dataframe\">\n",
       "  <thead>\n",
       "    <tr style=\"text-align: right;\">\n",
       "      <th></th>\n",
       "      <th>count</th>\n",
       "      <th>mean</th>\n",
       "      <th>std</th>\n",
       "      <th>min</th>\n",
       "      <th>25%</th>\n",
       "      <th>50%</th>\n",
       "      <th>75%</th>\n",
       "      <th>max</th>\n",
       "    </tr>\n",
       "  </thead>\n",
       "  <tbody>\n",
       "    <tr>\n",
       "      <th>PassengerId</th>\n",
       "      <td>156.00</td>\n",
       "      <td>78.50</td>\n",
       "      <td>45.18</td>\n",
       "      <td>1.00</td>\n",
       "      <td>39.75</td>\n",
       "      <td>78.50</td>\n",
       "      <td>117.25</td>\n",
       "      <td>156.00</td>\n",
       "    </tr>\n",
       "    <tr>\n",
       "      <th>Survived</th>\n",
       "      <td>156.00</td>\n",
       "      <td>0.35</td>\n",
       "      <td>0.48</td>\n",
       "      <td>0.00</td>\n",
       "      <td>0.00</td>\n",
       "      <td>0.00</td>\n",
       "      <td>1.00</td>\n",
       "      <td>1.00</td>\n",
       "    </tr>\n",
       "    <tr>\n",
       "      <th>Pclass</th>\n",
       "      <td>156.00</td>\n",
       "      <td>2.42</td>\n",
       "      <td>0.80</td>\n",
       "      <td>1.00</td>\n",
       "      <td>2.00</td>\n",
       "      <td>3.00</td>\n",
       "      <td>3.00</td>\n",
       "      <td>3.00</td>\n",
       "    </tr>\n",
       "    <tr>\n",
       "      <th>Age</th>\n",
       "      <td>126.00</td>\n",
       "      <td>28.14</td>\n",
       "      <td>14.61</td>\n",
       "      <td>0.83</td>\n",
       "      <td>19.00</td>\n",
       "      <td>26.00</td>\n",
       "      <td>35.00</td>\n",
       "      <td>71.00</td>\n",
       "    </tr>\n",
       "    <tr>\n",
       "      <th>SibSp</th>\n",
       "      <td>156.00</td>\n",
       "      <td>0.62</td>\n",
       "      <td>1.06</td>\n",
       "      <td>0.00</td>\n",
       "      <td>0.00</td>\n",
       "      <td>0.00</td>\n",
       "      <td>1.00</td>\n",
       "      <td>5.00</td>\n",
       "    </tr>\n",
       "    <tr>\n",
       "      <th>Parch</th>\n",
       "      <td>156.00</td>\n",
       "      <td>0.40</td>\n",
       "      <td>0.87</td>\n",
       "      <td>0.00</td>\n",
       "      <td>0.00</td>\n",
       "      <td>0.00</td>\n",
       "      <td>0.00</td>\n",
       "      <td>5.00</td>\n",
       "    </tr>\n",
       "    <tr>\n",
       "      <th>Fare</th>\n",
       "      <td>156.00</td>\n",
       "      <td>28.11</td>\n",
       "      <td>39.40</td>\n",
       "      <td>6.75</td>\n",
       "      <td>8.00</td>\n",
       "      <td>14.45</td>\n",
       "      <td>30.37</td>\n",
       "      <td>263.00</td>\n",
       "    </tr>\n",
       "  </tbody>\n",
       "</table>\n",
       "</div>"
      ],
      "text/plain": [
       "             count  mean   std  min   25%   50%    75%    max\n",
       "PassengerId 156.00 78.50 45.18 1.00 39.75 78.50 117.25 156.00\n",
       "Survived    156.00  0.35  0.48 0.00  0.00  0.00   1.00   1.00\n",
       "Pclass      156.00  2.42  0.80 1.00  2.00  3.00   3.00   3.00\n",
       "Age         126.00 28.14 14.61 0.83 19.00 26.00  35.00  71.00\n",
       "SibSp       156.00  0.62  1.06 0.00  0.00  0.00   1.00   5.00\n",
       "Parch       156.00  0.40  0.87 0.00  0.00  0.00   0.00   5.00\n",
       "Fare        156.00 28.11 39.40 6.75  8.00 14.45  30.37 263.00"
      ]
     },
     "execution_count": 7,
     "metadata": {},
     "output_type": "execute_result"
    }
   ],
   "source": [
    "pd.options.display.float_format = '{:.2f}'.format\n",
    "ship.describe().transpose()"
   ]
  },
  {
   "cell_type": "markdown",
   "metadata": {},
   "source": [
    "### Observations:\n",
    "- By seeing at Survived mean we can say 35% passangers in this data survived.\n",
    "Under Age we see its range to be between 0.83 years - 71 years.\n",
    "- That means the ship had new born bay onboard and also old people on it. \n",
    "- Age has null values"
   ]
  },
  {
   "cell_type": "markdown",
   "metadata": {},
   "source": [
    "# Indentifying & Handeling Missing Values"
   ]
  },
  {
   "cell_type": "code",
   "execution_count": 8,
   "metadata": {
    "scrolled": true
   },
   "outputs": [
    {
     "data": {
      "text/plain": [
       "30"
      ]
     },
     "execution_count": 8,
     "metadata": {},
     "output_type": "execute_result"
    }
   ],
   "source": [
    "ship['Age'].isnull().sum()"
   ]
  },
  {
   "cell_type": "markdown",
   "metadata": {},
   "source": [
    "#### Feature Engineering `'Title'` column from `'Name'`"
   ]
  },
  {
   "cell_type": "code",
   "execution_count": 9,
   "metadata": {},
   "outputs": [
    {
     "data": {
      "text/html": [
       "<div>\n",
       "<style scoped>\n",
       "    .dataframe tbody tr th:only-of-type {\n",
       "        vertical-align: middle;\n",
       "    }\n",
       "\n",
       "    .dataframe tbody tr th {\n",
       "        vertical-align: top;\n",
       "    }\n",
       "\n",
       "    .dataframe thead th {\n",
       "        text-align: right;\n",
       "    }\n",
       "</style>\n",
       "<table border=\"1\" class=\"dataframe\">\n",
       "  <thead>\n",
       "    <tr style=\"text-align: right;\">\n",
       "      <th></th>\n",
       "      <th>PassengerId</th>\n",
       "      <th>Survived</th>\n",
       "      <th>Pclass</th>\n",
       "      <th>Name</th>\n",
       "      <th>Sex</th>\n",
       "      <th>Age</th>\n",
       "      <th>SibSp</th>\n",
       "      <th>Parch</th>\n",
       "      <th>Ticket</th>\n",
       "      <th>Fare</th>\n",
       "      <th>Cabin</th>\n",
       "      <th>Embarked</th>\n",
       "      <th>Title</th>\n",
       "    </tr>\n",
       "  </thead>\n",
       "  <tbody>\n",
       "    <tr>\n",
       "      <th>0</th>\n",
       "      <td>1</td>\n",
       "      <td>0</td>\n",
       "      <td>3</td>\n",
       "      <td>Braund, Mr. Owen Harris</td>\n",
       "      <td>male</td>\n",
       "      <td>22.00</td>\n",
       "      <td>1</td>\n",
       "      <td>0</td>\n",
       "      <td>A/5 21171</td>\n",
       "      <td>7.25</td>\n",
       "      <td>NaN</td>\n",
       "      <td>S</td>\n",
       "      <td>Mr</td>\n",
       "    </tr>\n",
       "    <tr>\n",
       "      <th>1</th>\n",
       "      <td>2</td>\n",
       "      <td>1</td>\n",
       "      <td>1</td>\n",
       "      <td>Cumings, Mrs. John Bradley (Florence Briggs Th...</td>\n",
       "      <td>female</td>\n",
       "      <td>38.00</td>\n",
       "      <td>1</td>\n",
       "      <td>0</td>\n",
       "      <td>PC 17599</td>\n",
       "      <td>71.28</td>\n",
       "      <td>C85</td>\n",
       "      <td>C</td>\n",
       "      <td>Mrs</td>\n",
       "    </tr>\n",
       "    <tr>\n",
       "      <th>2</th>\n",
       "      <td>3</td>\n",
       "      <td>1</td>\n",
       "      <td>3</td>\n",
       "      <td>Heikkinen, Miss. Laina</td>\n",
       "      <td>female</td>\n",
       "      <td>26.00</td>\n",
       "      <td>0</td>\n",
       "      <td>0</td>\n",
       "      <td>STON/O2. 3101282</td>\n",
       "      <td>7.92</td>\n",
       "      <td>NaN</td>\n",
       "      <td>S</td>\n",
       "      <td>Miss</td>\n",
       "    </tr>\n",
       "    <tr>\n",
       "      <th>3</th>\n",
       "      <td>4</td>\n",
       "      <td>1</td>\n",
       "      <td>1</td>\n",
       "      <td>Futrelle, Mrs. Jacques Heath (Lily May Peel)</td>\n",
       "      <td>female</td>\n",
       "      <td>35.00</td>\n",
       "      <td>1</td>\n",
       "      <td>0</td>\n",
       "      <td>113803</td>\n",
       "      <td>53.10</td>\n",
       "      <td>C123</td>\n",
       "      <td>S</td>\n",
       "      <td>Mrs</td>\n",
       "    </tr>\n",
       "    <tr>\n",
       "      <th>4</th>\n",
       "      <td>5</td>\n",
       "      <td>0</td>\n",
       "      <td>3</td>\n",
       "      <td>Allen, Mr. William Henry</td>\n",
       "      <td>male</td>\n",
       "      <td>35.00</td>\n",
       "      <td>0</td>\n",
       "      <td>0</td>\n",
       "      <td>373450</td>\n",
       "      <td>8.05</td>\n",
       "      <td>NaN</td>\n",
       "      <td>S</td>\n",
       "      <td>Mr</td>\n",
       "    </tr>\n",
       "  </tbody>\n",
       "</table>\n",
       "</div>"
      ],
      "text/plain": [
       "   PassengerId  Survived  Pclass  \\\n",
       "0            1         0       3   \n",
       "1            2         1       1   \n",
       "2            3         1       3   \n",
       "3            4         1       1   \n",
       "4            5         0       3   \n",
       "\n",
       "                                                Name     Sex   Age  SibSp  \\\n",
       "0                            Braund, Mr. Owen Harris    male 22.00      1   \n",
       "1  Cumings, Mrs. John Bradley (Florence Briggs Th...  female 38.00      1   \n",
       "2                             Heikkinen, Miss. Laina  female 26.00      0   \n",
       "3       Futrelle, Mrs. Jacques Heath (Lily May Peel)  female 35.00      1   \n",
       "4                           Allen, Mr. William Henry    male 35.00      0   \n",
       "\n",
       "   Parch            Ticket  Fare Cabin Embarked Title  \n",
       "0      0         A/5 21171  7.25   NaN        S    Mr  \n",
       "1      0          PC 17599 71.28   C85        C   Mrs  \n",
       "2      0  STON/O2. 3101282  7.92   NaN        S  Miss  \n",
       "3      0            113803 53.10  C123        S   Mrs  \n",
       "4      0            373450  8.05   NaN        S    Mr  "
      ]
     },
     "execution_count": 9,
     "metadata": {},
     "output_type": "execute_result"
    }
   ],
   "source": [
    "ship['Title']=ship['Name'].str.extract(' ([A-Za-z]+)\\.',expand=False)\n",
    "ship.head()"
   ]
  },
  {
   "cell_type": "markdown",
   "metadata": {},
   "source": [
    "### Imputing median of age with respect to same `'Title'` groups"
   ]
  },
  {
   "cell_type": "code",
   "execution_count": 10,
   "metadata": {},
   "outputs": [],
   "source": [
    "def imp_age(cols):\n",
    "    Age = cols[0]\n",
    "    Title = cols[1]\n",
    "    if pd.isnull(Age):\n",
    "        return int(ship[ship[\"Title\"] == Title][\"Age\"].median())\n",
    "    else:\n",
    "        return Age"
   ]
  },
  {
   "cell_type": "code",
   "execution_count": 11,
   "metadata": {
    "scrolled": true
   },
   "outputs": [],
   "source": [
    "#imputing Pclass mean age in null values in age\n",
    "ship['Age'] = ship[[\"Age\", \"Title\"]].apply(imp_age,axis=1)"
   ]
  },
  {
   "cell_type": "code",
   "execution_count": 12,
   "metadata": {
    "scrolled": true
   },
   "outputs": [
    {
     "data": {
      "text/plain": [
       "0"
      ]
     },
     "execution_count": 12,
     "metadata": {},
     "output_type": "execute_result"
    }
   ],
   "source": [
    "#Re-Checking\n",
    "ship['Age'].isnull().sum()"
   ]
  },
  {
   "cell_type": "markdown",
   "metadata": {},
   "source": [
    "### Droping Cabin Column, which has 125 missing values out of 156."
   ]
  },
  {
   "cell_type": "code",
   "execution_count": 13,
   "metadata": {},
   "outputs": [],
   "source": [
    "ship.drop(\"Cabin\",inplace=True,axis=1)"
   ]
  },
  {
   "cell_type": "code",
   "execution_count": 14,
   "metadata": {},
   "outputs": [
    {
     "data": {
      "text/plain": [
       "PassengerId    0\n",
       "Survived       0\n",
       "Pclass         0\n",
       "Name           0\n",
       "Sex            0\n",
       "Age            0\n",
       "SibSp          0\n",
       "Parch          0\n",
       "Ticket         0\n",
       "Fare           0\n",
       "Embarked       1\n",
       "Title          0\n",
       "dtype: int64"
      ]
     },
     "execution_count": 14,
     "metadata": {},
     "output_type": "execute_result"
    }
   ],
   "source": [
    "ship.isnull().sum()"
   ]
  },
  {
   "cell_type": "code",
   "execution_count": 15,
   "metadata": {},
   "outputs": [],
   "source": [
    "#droping few rows with null values\n",
    "ship.dropna(inplace=True)"
   ]
  },
  {
   "cell_type": "markdown",
   "metadata": {},
   "source": [
    "#### No. of Rows and columns after handling missing values:"
   ]
  },
  {
   "cell_type": "code",
   "execution_count": 16,
   "metadata": {
    "scrolled": true
   },
   "outputs": [
    {
     "data": {
      "text/plain": [
       "(155, 12)"
      ]
     },
     "execution_count": 16,
     "metadata": {},
     "output_type": "execute_result"
    }
   ],
   "source": [
    "ship.shape  "
   ]
  },
  {
   "cell_type": "code",
   "execution_count": 17,
   "metadata": {},
   "outputs": [],
   "source": [
    "## Cabin ---> dropped ===>> 11 columns\n",
    "## Title ---> created ===>> 12 columns"
   ]
  },
  {
   "cell_type": "code",
   "execution_count": 18,
   "metadata": {
    "scrolled": true
   },
   "outputs": [
    {
     "data": {
      "image/png": "[encoded data removed]",
      "text/plain": [
       "<Figure size 432x288 with 1 Axes>"
      ]
     },
     "metadata": {
      "needs_background": "light"
     },
     "output_type": "display_data"
    }
   ],
   "source": [
    "plt.figure(figsize=(6,4))\n",
    "sns.boxplot(x='Age' ,data= ship);"
   ]
  },
  {
   "cell_type": "code",
   "execution_count": 19,
   "metadata": {},
   "outputs": [],
   "source": [
    "#This function will take dataframe name, the col name for which you want to \\n\n",
    "# check outlier and will return the rows of the df which are outliers\n",
    "def outlier(df, x):\n",
    "    #x = input(\"col name:\")\n",
    "    q1 = df[x].quantile(.25)\n",
    "    q3 = df[x].quantile(.75)\n",
    "    iqr = q3 - q1\n",
    "    max_lim = q3 + 1.5*iqr\n",
    "    min_lim = q1 - 1.5*iqr\n",
    "    print(\"max_lim =\", max_lim)\n",
    "    print(\"min_lim =\", min_lim)\n",
    "    return df[(df[x] > max_lim)| (df[x] < min_lim)]"
   ]
  },
  {
   "cell_type": "markdown",
   "metadata": {},
   "source": [
    "# Gender vs Survival"
   ]
  },
  {
   "cell_type": "code",
   "execution_count": 20,
   "metadata": {},
   "outputs": [
    {
     "name": "stdout",
     "output_type": "stream",
     "text": [
      "Total no.of female passengers: 55\n",
      "Percentage of Survival in female: 70.9090909090909\n"
     ]
    }
   ],
   "source": [
    "#count of female passengers & Survival_rate\n",
    "print(\"Total no.of female passengers:\", ship[ship['Sex'].str.match(\"female\")]['Survived'].count())\n",
    "print(\"Percentage of Survival in female:\", (ship[ship['Sex'].str.match(\"female\")]['Survived'].sum()/ship[ship['Sex'].str.match(\"female\")]['Survived'].count())*100)"
   ]
  },
  {
   "cell_type": "code",
   "execution_count": 21,
   "metadata": {
    "scrolled": true
   },
   "outputs": [
    {
     "name": "stdout",
     "output_type": "stream",
     "text": [
      "Total no.of male passengers: 100\n",
      "Percentage of Survival in male: 14.000000000000002\n"
     ]
    }
   ],
   "source": [
    "#count of male passengers & Survival_rate\n",
    "print(\"Total no.of male passengers:\", ship[ship['Sex'].str.match(\"male\")]['Survived'].count())\n",
    "print(\"Percentage of Survival in male:\", (ship[ship['Sex'].str.match(\"male\")]\n",
    "                                            ['Survived'].sum()/ship[ship['Sex'].str.match(\"male\")]['Survived'].count())*100)"
   ]
  },
  {
   "cell_type": "markdown",
   "metadata": {},
   "source": [
    "By this we can see the importance that is given to female gender in providing resucing and helping them to survive."
   ]
  },
  {
   "cell_type": "markdown",
   "metadata": {},
   "source": [
    "# Pclass vs Survival"
   ]
  },
  {
   "cell_type": "code",
   "execution_count": 22,
   "metadata": {},
   "outputs": [
    {
     "name": "stdout",
     "output_type": "stream",
     "text": [
      "Total no.of Passengers traveling in class_1: 29\n",
      "Survival Rate in class_1 Passengers: 38.0\n"
     ]
    }
   ],
   "source": [
    "print(\"Total no.of Passengers traveling in class_1:\",ship[ship['Pclass'] == 1]['PassengerId'].count())\n",
    "print(\"Survival Rate in class_1 Passengers:\",(ship[ship['Pclass'] == 1]['Survived'].sum()/ship[ship['Pclass'] == 1]['PassengerId'].count()).round(2)*100)"
   ]
  },
  {
   "cell_type": "code",
   "execution_count": 23,
   "metadata": {},
   "outputs": [
    {
     "name": "stdout",
     "output_type": "stream",
     "text": [
      "Total no.of Passengers traveling in class_2: 30\n",
      "Survival Rate in class_2 Passengers: 47.0\n"
     ]
    }
   ],
   "source": [
    "print(\"Total no.of Passengers traveling in class_2:\",ship[ship['Pclass'] == 2]['PassengerId'].count())\n",
    "print(\"Survival Rate in class_2 Passengers:\",(ship[ship['Pclass'] == 2]['Survived'].sum()/ship[ship['Pclass'] == 2]['PassengerId'].count()).round(2)*100)"
   ]
  },
  {
   "cell_type": "code",
   "execution_count": 24,
   "metadata": {},
   "outputs": [
    {
     "name": "stdout",
     "output_type": "stream",
     "text": [
      "Total no.of Passengers traveling in class_3: 96\n",
      "Survival Rate in class_3 Passengers: 28.999999999999996\n"
     ]
    }
   ],
   "source": [
    "print(\"Total no.of Passengers traveling in class_3:\",ship[ship['Pclass'] == 3]['PassengerId'].count())\n",
    "print(\"Survival Rate in class_3 Passengers:\",(ship[ship['Pclass'] == 3]['Survived'].sum()/ship[ship['Pclass'] == 3]['PassengerId'].count()).round(2)*100)"
   ]
  },
  {
   "cell_type": "markdown",
   "metadata": {},
   "source": [
    "By this we can say Pclass is also a important. "
   ]
  },
  {
   "cell_type": "markdown",
   "metadata": {},
   "source": [
    "# Title vs Survival"
   ]
  },
  {
   "cell_type": "code",
   "execution_count": 25,
   "metadata": {
    "scrolled": true
   },
   "outputs": [
    {
     "name": "stdout",
     "output_type": "stream",
     "text": [
      "Title\n",
      "Don        0\n",
      "Master     3\n",
      "Miss      23\n",
      "Mr        11\n",
      "Mrs       16\n",
      "Rev        0\n",
      "Name: Survived, dtype: int64\n"
     ]
    },
    {
     "data": {
      "image/png": "[encoded data removed]",
      "text/plain": [
       "<Figure size 432x288 with 1 Axes>"
      ]
     },
     "metadata": {},
     "output_type": "display_data"
    }
   ],
   "source": [
    "#Groupby 'Title' and get a pie chart of total Survived\n",
    "surv_Title = ship.groupby('Title')['Survived'].sum()\n",
    "print(surv_Title)\n",
    "surv_Title.plot(kind = 'pie', autopct ='% 1.f %%', title = 'Percentage of Survived v/s Title ', fontsize = 15);"
   ]
  },
  {
   "cell_type": "markdown",
   "metadata": {},
   "source": [
    "Here we can see significance in Title groups"
   ]
  },
  {
   "cell_type": "markdown",
   "metadata": {},
   "source": [
    "# Age Vs Survival"
   ]
  },
  {
   "cell_type": "code",
   "execution_count": 26,
   "metadata": {},
   "outputs": [],
   "source": [
    "def age_group(x):\n",
    "    if x <= 13:\n",
    "        return 'Children' \n",
    "    elif 14 <= x <= 18:\n",
    "        return 'Teenager'\n",
    "    elif 19 <= x <= 55:\n",
    "        return 'Adults'\n",
    "    else:\n",
    "        return 'Oldage'"
   ]
  },
  {
   "cell_type": "code",
   "execution_count": 27,
   "metadata": {
    "scrolled": true
   },
   "outputs": [],
   "source": [
    "ship['Age_grp']=ship['Age'].map(age_group)"
   ]
  },
  {
   "cell_type": "code",
   "execution_count": 28,
   "metadata": {},
   "outputs": [
    {
     "name": "stdout",
     "output_type": "stream",
     "text": [
      "Total no.of Children Passengers traveling: 14\n",
      "Survival Rate in class_1 Passengers: 43.0\n"
     ]
    }
   ],
   "source": [
    "print(\"Total no.of Children Passengers traveling:\",ship[ship['Age_grp'] == \"Children\"]['PassengerId'].count())\n",
    "print(\"Survival Rate in class_1 Passengers:\",(ship[ship['Age_grp'] == \"Children\"]['Survived'].sum()/ship[ship['Age_grp'] == \"Children\"]['PassengerId'].count()).round(2)*100)"
   ]
  },
  {
   "cell_type": "code",
   "execution_count": 29,
   "metadata": {
    "scrolled": true
   },
   "outputs": [
    {
     "name": "stdout",
     "output_type": "stream",
     "text": [
      "Total no.of Teenager Passengers traveling: 20\n",
      "Survival Rate in class_1 Passengers: 55.00000000000001\n"
     ]
    }
   ],
   "source": [
    "print(\"Total no.of Teenager Passengers traveling:\",ship[ship['Age_grp'] == \"Teenager\"]['PassengerId'].count())\n",
    "print(\"Survival Rate in class_1 Passengers:\",(ship[ship['Age_grp'] == \"Teenager\"]['Survived'].sum()/ship[ship['Age_grp'] == \"Teenager\"]['PassengerId'].count()).round(2)*100)"
   ]
  },
  {
   "cell_type": "code",
   "execution_count": 30,
   "metadata": {},
   "outputs": [
    {
     "name": "stdout",
     "output_type": "stream",
     "text": [
      "Total no.of Adults Passengers traveling: 114\n",
      "Survival Rate in class_1 Passengers: 31.0\n"
     ]
    }
   ],
   "source": [
    "print(\"Total no.of Adults Passengers traveling:\",ship[ship['Age_grp'] == \"Adults\"]['PassengerId'].count())\n",
    "print(\"Survival Rate in class_1 Passengers:\",(ship[ship['Age_grp'] == \"Adults\"]['Survived'].sum()/ship[ship['Age_grp'] == \"Adults\"]['PassengerId'].count()).round(2)*100)"
   ]
  },
  {
   "cell_type": "code",
   "execution_count": 31,
   "metadata": {
    "scrolled": true
   },
   "outputs": [
    {
     "name": "stdout",
     "output_type": "stream",
     "text": [
      "Total no.of Oldage Passengers traveling: 7\n",
      "Survival Rate in class_1 Passengers: 14.000000000000002\n"
     ]
    }
   ],
   "source": [
    "print(\"Total no.of Oldage Passengers traveling:\",ship[ship['Age_grp'] == \"Oldage\"]['PassengerId'].count())\n",
    "print(\"Survival Rate in class_1 Passengers:\",(ship[ship['Age_grp'] == \"Oldage\"]['Survived'].sum()/ship[ship['Age_grp'] == \"Oldage\"]['PassengerId'].count()).round(2)*100)"
   ]
  },
  {
   "cell_type": "code",
   "execution_count": 32,
   "metadata": {},
   "outputs": [
    {
     "name": "stdout",
     "output_type": "stream",
     "text": [
      "Age_grp\n",
      "Adults      35\n",
      "Children     6\n",
      "Oldage       1\n",
      "Teenager    11\n",
      "Name: Survived, dtype: int64\n"
     ]
    },
    {
     "data": {
      "image/png": "[encoded data removed]",
      "text/plain": [
       "<Figure size 432x288 with 1 Axes>"
      ]
     },
     "metadata": {
      "needs_background": "light"
     },
     "output_type": "display_data"
    }
   ],
   "source": [
    "#Groupby 'Age_grp' and get a pie chart of total Survived\n",
    "surv_Age_grp = ship.groupby('Age_grp')['Survived'].sum()\n",
    "print(surv_Age_grp)\n",
    "surv_Age_grp.plot(kind = 'bar', title = ' Bar Chart - Survived v/s Age_grp ', fontsize = 10);"
   ]
  },
  {
   "cell_type": "markdown",
   "metadata": {},
   "source": [
    "No much difference is seen between age groups.\n",
    "But children and oldage people were given high priority compared to other age groups, they have 38% survival rate. "
   ]
  },
  {
   "cell_type": "code",
   "execution_count": 33,
   "metadata": {
    "scrolled": true
   },
   "outputs": [
    {
     "data": {
      "text/plain": [
       "array([1, 0, 3, 4, 2, 5], dtype=int64)"
      ]
     },
     "execution_count": 33,
     "metadata": {},
     "output_type": "execute_result"
    }
   ],
   "source": [
    "ship['SibSp'].unique() #This is the size of family"
   ]
  },
  {
   "cell_type": "code",
   "execution_count": 34,
   "metadata": {},
   "outputs": [
    {
     "name": "stdout",
     "output_type": "stream",
     "text": [
      "SibSp\n",
      "0    32\n",
      "1    18\n",
      "2     0\n",
      "3     2\n",
      "4     1\n",
      "5     0\n",
      "Name: Survived, dtype: int64\n"
     ]
    },
    {
     "data": {
      "text/plain": [
       "<matplotlib.axes._subplots.AxesSubplot at 0x28dcee780c8>"
      ]
     },
     "execution_count": 34,
     "metadata": {},
     "output_type": "execute_result"
    },
    {
     "data": {
      "image/png": "[encoded data removed]",
      "text/plain": [
       "<Figure size 432x288 with 1 Axes>"
      ]
     },
     "metadata": {
      "needs_background": "light"
     },
     "output_type": "display_data"
    }
   ],
   "source": [
    "surv_SibSp = ship.groupby('SibSp')['Survived'].sum()\n",
    "print(surv_SibSp)\n",
    "surv_SibSp.plot(kind = 'bar',  title = 'Percentage of Survived v/s SibSp', fontsize = 10)"
   ]
  },
  {
   "cell_type": "code",
   "execution_count": 35,
   "metadata": {},
   "outputs": [
    {
     "name": "stdout",
     "output_type": "stream",
     "text": [
      "Embarked\n",
      "C    12\n",
      "Q     7\n",
      "S    34\n",
      "Name: Survived, dtype: int64\n"
     ]
    },
    {
     "data": {
      "image/png": "[encoded data removed]",
      "text/plain": [
       "<Figure size 432x288 with 1 Axes>"
      ]
     },
     "metadata": {},
     "output_type": "display_data"
    }
   ],
   "source": [
    "#Groupby 'Embarked' and get a pie chart of total Survived\n",
    "surv_embark = ship.groupby('Embarked')['Survived'].sum()\n",
    "print(surv_embark)\n",
    "surv_embark.plot(kind = 'pie', autopct ='% 1.f %%', title = 'Percentage of Survived v/s Embarkation', fontsize = 20);"
   ]
  },
  {
   "cell_type": "markdown",
   "metadata": {},
   "source": [
    "__Observation:__\n",
    "- It's __evident__ that passengers embarked at __Southampton had very high chances to get help and survived__.\n",
    "- Out of the __total survived passenger 64% were embarked at Southampton.__\n",
    "- __23% from Cherbourg standing next__ which is not that much when campared to Southampton passangers.\n",
    "- __Only 13%__ from __Queenstown__ got survived"
   ]
  },
  {
   "cell_type": "code",
   "execution_count": 36,
   "metadata": {},
   "outputs": [
    {
     "data": {
      "text/plain": [
       "array([  7.25  ,  71.2833,   7.925 ,  53.1   ,   8.05  ,   8.4583,\n",
       "        51.8625,  21.075 ,  11.1333,  30.0708,  16.7   ,  26.55  ,\n",
       "        31.275 ,   7.8542,  16.    ,  29.125 ,  13.    ,  18.    ,\n",
       "         7.225 ,  26.    ,   8.0292,  35.5   ,  31.3875, 263.    ,\n",
       "         7.8792,   7.8958,  27.7208, 146.5208,   7.75  ,  10.5   ,\n",
       "        82.1708,  52.    ,   7.2292,  11.2417,   9.475 ,  21.    ,\n",
       "        41.5792,  15.5   ,  21.6792,  17.8   ,  39.6875,   7.8   ,\n",
       "        76.7292,  61.9792,  27.75  ,  46.9   ,  83.475 ,  27.9   ,\n",
       "        15.2458,   8.1583,   8.6625,  73.5   ,  14.4542,  56.4958,\n",
       "         7.65  ,  29.    ,  12.475 ,   9.    ,   9.5   ,   7.7875,\n",
       "        47.1   ,  15.85  ,  34.375 ,  61.175 ,  20.575 ,  34.6542,\n",
       "        63.3583,  23.    ,  77.2875,   8.6542,   7.775 ,  24.15  ,\n",
       "         9.825 ,  14.4583, 247.5208,   7.1417,  22.3583,   6.975 ,\n",
       "         7.05  ,  14.5   ,  15.0458,  26.2833,   9.2167,  79.2   ,\n",
       "         6.75  ,  11.5   ,  36.75  ,   7.7958,  12.525 ,  66.6   ,\n",
       "         7.3125,  61.3792])"
      ]
     },
     "execution_count": 36,
     "metadata": {},
     "output_type": "execute_result"
    }
   ],
   "source": [
    "ship['Fare'].unique()"
   ]
  },
  {
   "cell_type": "code",
   "execution_count": 37,
   "metadata": {
    "scrolled": true
   },
   "outputs": [
    {
     "data": {
      "text/plain": [
       "Index(['PassengerId', 'Survived', 'Pclass', 'Name', 'Sex', 'Age', 'SibSp',\n",
       "       'Parch', 'Ticket', 'Fare', 'Embarked', 'Title', 'Age_grp'],\n",
       "      dtype='object')"
      ]
     },
     "execution_count": 37,
     "metadata": {},
     "output_type": "execute_result"
    }
   ],
   "source": [
    "ship.columns"
   ]
  },
  {
   "cell_type": "markdown",
   "metadata": {},
   "source": [
    "# Feature Enginering"
   ]
  },
  {
   "cell_type": "code",
   "execution_count": 38,
   "metadata": {
    "scrolled": true
   },
   "outputs": [],
   "source": [
    "ship = pd.get_dummies(ship, columns=['Sex'], drop_first = True)\n",
    "ship = pd.get_dummies(ship, columns=['Embarked'], drop_first = True)\n",
    "ship = pd.get_dummies(ship, columns=['Pclass'], drop_first = True)\n",
    "ship = pd.get_dummies(ship, columns=['Age_grp'], drop_first = True)\n",
    "ship = pd.get_dummies(ship, columns=['Title'], drop_first = True)"
   ]
  },
  {
   "cell_type": "code",
   "execution_count": 39,
   "metadata": {
    "scrolled": true
   },
   "outputs": [
    {
     "data": {
      "text/plain": [
       "(155, 21)"
      ]
     },
     "execution_count": 39,
     "metadata": {},
     "output_type": "execute_result"
    }
   ],
   "source": [
    "ship.shape"
   ]
  },
  {
   "cell_type": "markdown",
   "metadata": {},
   "source": [
    "#### droping old features from ship"
   ]
  },
  {
   "cell_type": "code",
   "execution_count": 40,
   "metadata": {},
   "outputs": [],
   "source": [
    "ship.drop([\"PassengerId\",\"Name\",\"Ticket\"],axis=1,inplace=True)"
   ]
  },
  {
   "cell_type": "code",
   "execution_count": 41,
   "metadata": {
    "scrolled": true
   },
   "outputs": [
    {
     "name": "stdout",
     "output_type": "stream",
     "text": [
      "['Survived', 'Age', 'SibSp', 'Parch', 'Fare', 'Sex_male', 'Embarked_Q', 'Embarked_S', 'Pclass_2', 'Pclass_3', 'Age_grp_Children', 'Age_grp_Oldage', 'Age_grp_Teenager', 'Title_Master', 'Title_Miss', 'Title_Mr', 'Title_Mrs', 'Title_Rev']\n"
     ]
    }
   ],
   "source": [
    "print(ship.columns.tolist())"
   ]
  },
  {
   "cell_type": "markdown",
   "metadata": {},
   "source": [
    "# Now, lets try fitting a Logistic Regression Model with these Features"
   ]
  },
  {
   "cell_type": "markdown",
   "metadata": {},
   "source": [
    "### Spliting training and testing data"
   ]
  },
  {
   "cell_type": "code",
   "execution_count": 42,
   "metadata": {},
   "outputs": [],
   "source": [
    "data = ship"
   ]
  },
  {
   "cell_type": "code",
   "execution_count": 43,
   "metadata": {},
   "outputs": [
    {
     "name": "stdout",
     "output_type": "stream",
     "text": [
      "<class 'pandas.core.frame.DataFrame'>\n",
      "Int64Index: 155 entries, 0 to 155\n",
      "Data columns (total 18 columns):\n",
      " #   Column            Non-Null Count  Dtype  \n",
      "---  ------            --------------  -----  \n",
      " 0   Survived          155 non-null    int64  \n",
      " 1   Age               155 non-null    float64\n",
      " 2   SibSp             155 non-null    int64  \n",
      " 3   Parch             155 non-null    int64  \n",
      " 4   Fare              155 non-null    float64\n",
      " 5   Sex_male          155 non-null    uint8  \n",
      " 6   Embarked_Q        155 non-null    uint8  \n",
      " 7   Embarked_S        155 non-null    uint8  \n",
      " 8   Pclass_2          155 non-null    uint8  \n",
      " 9   Pclass_3          155 non-null    uint8  \n",
      " 10  Age_grp_Children  155 non-null    uint8  \n",
      " 11  Age_grp_Oldage    155 non-null    uint8  \n",
      " 12  Age_grp_Teenager  155 non-null    uint8  \n",
      " 13  Title_Master      155 non-null    uint8  \n",
      " 14  Title_Miss        155 non-null    uint8  \n",
      " 15  Title_Mr          155 non-null    uint8  \n",
      " 16  Title_Mrs         155 non-null    uint8  \n",
      " 17  Title_Rev         155 non-null    uint8  \n",
      "dtypes: float64(2), int64(3), uint8(13)\n",
      "memory usage: 9.2 KB\n"
     ]
    }
   ],
   "source": [
    "data.info()"
   ]
  },
  {
   "cell_type": "code",
   "execution_count": 44,
   "metadata": {},
   "outputs": [],
   "source": [
    "data_train=data.sample(frac=0.80,random_state=250)\n",
    "data_test=data.drop(data_train.index)"
   ]
  },
  {
   "cell_type": "code",
   "execution_count": 45,
   "metadata": {},
   "outputs": [
    {
     "data": {
      "text/plain": [
       "(31, 18)"
      ]
     },
     "execution_count": 45,
     "metadata": {},
     "output_type": "execute_result"
    }
   ],
   "source": [
    "data_test.shape"
   ]
  },
  {
   "cell_type": "code",
   "execution_count": 46,
   "metadata": {},
   "outputs": [
    {
     "data": {
      "text/plain": [
       "(124, 18)"
      ]
     },
     "execution_count": 46,
     "metadata": {},
     "output_type": "execute_result"
    }
   ],
   "source": [
    "data_train.shape"
   ]
  },
  {
   "cell_type": "code",
   "execution_count": 47,
   "metadata": {},
   "outputs": [
    {
     "data": {
      "text/plain": [
       "Index(['Survived', 'Age', 'SibSp', 'Parch', 'Fare', 'Sex_male', 'Embarked_Q',\n",
       "       'Embarked_S', 'Pclass_2', 'Pclass_3', 'Age_grp_Children',\n",
       "       'Age_grp_Oldage', 'Age_grp_Teenager', 'Title_Master', 'Title_Miss',\n",
       "       'Title_Mr', 'Title_Mrs', 'Title_Rev'],\n",
       "      dtype='object')"
      ]
     },
     "execution_count": 47,
     "metadata": {},
     "output_type": "execute_result"
    }
   ],
   "source": [
    "data_test.columns"
   ]
  },
  {
   "cell_type": "code",
   "execution_count": 48,
   "metadata": {},
   "outputs": [],
   "source": [
    "## Build Model\n",
    "import statsmodels.formula.api as smf\n",
    "import statsmodels.api as sm"
   ]
  },
  {
   "cell_type": "code",
   "execution_count": 49,
   "metadata": {},
   "outputs": [],
   "source": [
    "model1=smf.glm(\"Survived~Age_grp_Children+Age_grp_Oldage+Age_grp_Teenager+SibSp+Parch+Fare+Sex_male+Embarked_Q+Embarked_S+Pclass_2+Pclass_3+Title_Master+Title_Miss+Title_Mr+Title_Mrs+Title_Rev\", data=data_train, family=sm.families.Binomial()).fit()"
   ]
  },
  {
   "cell_type": "code",
   "execution_count": 50,
   "metadata": {},
   "outputs": [
    {
     "name": "stdout",
     "output_type": "stream",
     "text": [
      "                 Generalized Linear Model Regression Results                  \n",
      "==============================================================================\n",
      "Dep. Variable:               Survived   No. Observations:                  124\n",
      "Model:                            GLM   Df Residuals:                      109\n",
      "Model Family:                Binomial   Df Model:                           14\n",
      "Link Function:                  logit   Scale:                          1.0000\n",
      "Method:                          IRLS   Log-Likelihood:                -49.890\n",
      "Date:                Sat, 01 Aug 2020   Deviance:                       99.779\n",
      "Time:                        17:03:07   Pearson chi2:                     120.\n",
      "No. Iterations:                    19                                         \n",
      "Covariance Type:            nonrobust                                         \n",
      "====================================================================================\n",
      "                       coef    std err          z      P>|z|      [0.025      0.975]\n",
      "------------------------------------------------------------------------------------\n",
      "Intercept            1.1281    835.818      0.001      0.999   -1637.045    1639.301\n",
      "Age_grp_Children    -2.0646      1.975     -1.046      0.296      -5.935       1.805\n",
      "Age_grp_Oldage      -2.3105      1.820     -1.270      0.204      -5.877       1.256\n",
      "Age_grp_Teenager    -0.8869      1.069     -0.830      0.407      -2.982       1.208\n",
      "SibSp               -0.5844      0.380     -1.536      0.125      -1.330       0.161\n",
      "Parch               -0.0624      0.457     -0.136      0.891      -0.959       0.834\n",
      "Fare                -0.0105      0.019     -0.542      0.588      -0.049       0.028\n",
      "Sex_male            -4.3639   2507.451     -0.002      0.999   -4918.878    4910.150\n",
      "Embarked_Q           0.4649      1.071      0.434      0.664      -1.633       2.563\n",
      "Embarked_S          -0.5235      0.637     -0.822      0.411      -1.771       0.724\n",
      "Pclass_2            -0.5643      1.115     -0.506      0.613      -2.749       1.621\n",
      "Pclass_3            -1.8821      1.209     -1.556      0.120      -4.252       0.488\n",
      "Title_Master         8.3596   3343.269      0.003      0.998   -6544.326    6561.045\n",
      "Title_Miss           3.3415    835.817      0.004      0.997   -1634.830    1641.514\n",
      "Title_Mr             3.3845   3343.268      0.001      0.999   -6549.301    6556.070\n",
      "Title_Mrs            2.1505    835.817      0.003      0.998   -1636.021    1640.322\n",
      "Title_Rev          -16.1080   9193.987     -0.002      0.999    -1.8e+04     1.8e+04\n",
      "====================================================================================\n"
     ]
    }
   ],
   "source": [
    "print(model1.summary())"
   ]
  },
  {
   "cell_type": "markdown",
   "metadata": {},
   "source": [
    "# Metric Evaluation with Confussion Matrix"
   ]
  },
  {
   "cell_type": "code",
   "execution_count": 51,
   "metadata": {},
   "outputs": [],
   "source": [
    "## Let's check confusion matrix and AUC\n",
    "import sklearn.metrics as metrics"
   ]
  },
  {
   "cell_type": "code",
   "execution_count": 52,
   "metadata": {},
   "outputs": [],
   "source": [
    "y_true=data_test['Survived']\n",
    "y_pred=model1.predict(data_test)"
   ]
  },
  {
   "cell_type": "code",
   "execution_count": 53,
   "metadata": {
    "scrolled": true
   },
   "outputs": [
    {
     "data": {
      "text/plain": [
       "86    0.01\n",
       "30    0.03\n",
       "0     0.05\n",
       "153   0.07\n",
       "118   0.07\n",
       "71    0.09\n",
       "81    0.09\n",
       "4     0.09\n",
       "dtype: float64"
      ]
     },
     "execution_count": 53,
     "metadata": {},
     "output_type": "execute_result"
    }
   ],
   "source": [
    "y_pred.sort_values().head(8)"
   ]
  },
  {
   "cell_type": "markdown",
   "metadata": {},
   "source": [
    "### ROC curve"
   ]
  },
  {
   "cell_type": "code",
   "execution_count": 89,
   "metadata": {},
   "outputs": [],
   "source": [
    "y_score=model1.predict(data_test)\n",
    "fpr,tpr,thresholds=metrics.roc_curve(y_true,y_score)\n",
    "x,y=np.arange(0,1.1,0.1),np.arange(0,1.1,0.1)"
   ]
  },
  {
   "cell_type": "code",
   "execution_count": 55,
   "metadata": {},
   "outputs": [
    {
     "data": {
      "image/png": "[encoded data removed]",
      "text/plain": [
       "<Figure size 432x288 with 1 Axes>"
      ]
     },
     "metadata": {
      "needs_background": "light"
     },
     "output_type": "display_data"
    }
   ],
   "source": [
    "plt.plot(fpr,tpr,\"-\")\n",
    "plt.plot(x,y,'b--');"
   ]
  },
  {
   "cell_type": "code",
   "execution_count": 56,
   "metadata": {
    "scrolled": true
   },
   "outputs": [
    {
     "name": "stdout",
     "output_type": "stream",
     "text": [
      "  actual\n",
      "[[20  2]\n",
      " [ 3  6]]\n",
      "----------\n",
      "   TN FP\n",
      "   FN TP\n",
      "----------\n",
      "The probability of predicting Survived correctly is  0.67\n",
      "The probability of predicting not Survived correctly is  0.91\n"
     ]
    }
   ],
   "source": [
    "y_true=data_test['Survived']\n",
    "y_pred=model1.predict(data_test).map(lambda x:1 if x>0.35 else 0)\n",
    "\n",
    "CM = metrics.confusion_matrix(y_true,y_pred)\n",
    "\n",
    "print(\"  actual\")\n",
    "print(CM)\n",
    "\n",
    "print(\"----------\")\n",
    "print(\"   TN FP\")\n",
    "print(\"   FN TP\")\n",
    "\n",
    "\n",
    "\n",
    "print(\"----------\")\n",
    "\n",
    "TN = CM[0,0]\n",
    "TP = CM[1,1]\n",
    "FN = CM[1,0]\n",
    "FP = CM[0,1]\n",
    "\n",
    "sensitivity = TP/(TP+FN)\n",
    "specificity = TN/(TN+FP)\n",
    "\n",
    "print(\"The probability of predicting Survived correctly is \",sensitivity.round(2))\n",
    "print(\"The probability of predicting not Survived correctly is \",specificity.round(2))"
   ]
  },
  {
   "cell_type": "code",
   "execution_count": 57,
   "metadata": {},
   "outputs": [
    {
     "name": "stdout",
     "output_type": "stream",
     "text": [
      "Accuracy :  83.87096774193549\n"
     ]
    }
   ],
   "source": [
    "# Accuracy of the confusion matrix \n",
    "total=sum(sum(CM))\n",
    "\n",
    "accuracy=(CM[0,0]+CM[1,1])/total\n",
    "print ('Accuracy : ', accuracy*100)"
   ]
  },
  {
   "cell_type": "code",
   "execution_count": 58,
   "metadata": {},
   "outputs": [],
   "source": [
    "model2=smf.glm(\"Survived~SibSp+Sex_male\", data=data_train, family=sm.families.Binomial()).fit()"
   ]
  },
  {
   "cell_type": "code",
   "execution_count": 59,
   "metadata": {},
   "outputs": [
    {
     "name": "stdout",
     "output_type": "stream",
     "text": [
      "                 Generalized Linear Model Regression Results                  \n",
      "==============================================================================\n",
      "Dep. Variable:               Survived   No. Observations:                  124\n",
      "Model:                            GLM   Df Residuals:                      121\n",
      "Model Family:                Binomial   Df Model:                            2\n",
      "Link Function:                  logit   Scale:                          1.0000\n",
      "Method:                          IRLS   Log-Likelihood:                -57.805\n",
      "Date:                Sat, 01 Aug 2020   Deviance:                       115.61\n",
      "Time:                        17:03:09   Pearson chi2:                     119.\n",
      "No. Iterations:                     5                                         \n",
      "Covariance Type:            nonrobust                                         \n",
      "==============================================================================\n",
      "                 coef    std err          z      P>|z|      [0.025      0.975]\n",
      "------------------------------------------------------------------------------\n",
      "Intercept      1.4285      0.428      3.338      0.001       0.590       2.267\n",
      "SibSp         -0.6077      0.280     -2.171      0.030      -1.156      -0.059\n",
      "Sex_male      -2.9311      0.506     -5.796      0.000      -3.922      -1.940\n",
      "==============================================================================\n"
     ]
    }
   ],
   "source": [
    "print(model2.summary())"
   ]
  },
  {
   "cell_type": "markdown",
   "metadata": {},
   "source": [
    "# Metric Evaluation with Confussion Matrix for model2"
   ]
  },
  {
   "cell_type": "code",
   "execution_count": 60,
   "metadata": {},
   "outputs": [],
   "source": [
    "y_true=data_test['Survived']\n",
    "y_pred=model2.predict(data_test)"
   ]
  },
  {
   "cell_type": "code",
   "execution_count": 61,
   "metadata": {},
   "outputs": [
    {
     "data": {
      "text/plain": [
       "0     0.11\n",
       "117   0.11\n",
       "86    0.11\n",
       "137   0.11\n",
       "71    0.17\n",
       "121   0.18\n",
       "118   0.18\n",
       "115   0.18\n",
       "dtype: float64"
      ]
     },
     "execution_count": 61,
     "metadata": {},
     "output_type": "execute_result"
    }
   ],
   "source": [
    "y_pred.sort_values().head(8)"
   ]
  },
  {
   "cell_type": "code",
   "execution_count": 62,
   "metadata": {},
   "outputs": [],
   "source": [
    "## ROC curve\n",
    "y_score=model2.predict(data_test)\n",
    "fpr,tpr,thresholds=metrics.roc_curve(y_true,y_score)\n",
    "x,y=np.arange(0,1.1,0.1),np.arange(0,1.1,0.1)"
   ]
  },
  {
   "cell_type": "code",
   "execution_count": 63,
   "metadata": {},
   "outputs": [
    {
     "data": {
      "image/png": "[encoded data removed]",
      "text/plain": [
       "<Figure size 432x288 with 1 Axes>"
      ]
     },
     "metadata": {
      "needs_background": "light"
     },
     "output_type": "display_data"
    }
   ],
   "source": [
    "plt.plot(fpr,tpr,\"-\")\n",
    "plt.plot(x,y,'b--');"
   ]
  },
  {
   "cell_type": "code",
   "execution_count": 64,
   "metadata": {},
   "outputs": [
    {
     "name": "stdout",
     "output_type": "stream",
     "text": [
      "  actual\n",
      "[[20  2]\n",
      " [ 2  7]]\n",
      "----------\n",
      "   TN FP\n",
      "   FN TP\n",
      "----------\n",
      "The probability of predicting Survived correctly is  0.78\n",
      "The probability of predicting not Survived correctly is  0.91\n"
     ]
    }
   ],
   "source": [
    "y_true=data_test['Survived']\n",
    "y_pred=model2.predict(data_test).map(lambda x:1 if x>0.2 else 0)\n",
    "\n",
    "CM = metrics.confusion_matrix(y_true,y_pred)\n",
    "\n",
    "print(\"  actual\")\n",
    "print(CM)\n",
    "\n",
    "print(\"----------\")\n",
    "print(\"   TN FP\")\n",
    "print(\"   FN TP\")\n",
    "\n",
    "\n",
    "\n",
    "print(\"----------\")\n",
    "\n",
    "TN = CM[0,0]\n",
    "FP = CM[0,1]\n",
    "FN = CM[1,0]\n",
    "TP = CM[1,1]\n",
    "\n",
    "sensitivity = TP/(TP+FN)\n",
    "specificity = TN/(TN+FP)\n",
    "\n",
    "print(\"The probability of predicting Survived correctly is \",sensitivity.round(2))\n",
    "print(\"The probability of predicting not Survived correctly is \",specificity.round(2))"
   ]
  },
  {
   "cell_type": "code",
   "execution_count": 65,
   "metadata": {},
   "outputs": [
    {
     "name": "stdout",
     "output_type": "stream",
     "text": [
      "Accuracy :  87.09677419354838\n"
     ]
    }
   ],
   "source": [
    "# Accuracy of the confusion matrix \n",
    "total=sum(sum(CM))\n",
    "\n",
    "accuracy_logistic_model2=(CM[0,0]+CM[1,1])/total\n",
    "print ('Accuracy : ', accuracy_logistic_model2*100)"
   ]
  },
  {
   "cell_type": "code",
   "execution_count": null,
   "metadata": {},
   "outputs": [],
   "source": []
  },
  {
   "cell_type": "markdown",
   "metadata": {},
   "source": [
    "# Naive - Bayes Classifier"
   ]
  },
  {
   "cell_type": "code",
   "execution_count": 66,
   "metadata": {},
   "outputs": [],
   "source": [
    "import os\n",
    "import pandas as pd\n",
    "from time import time\n",
    "from sklearn.naive_bayes import GaussianNB, BernoulliNB,MultinomialNB\n",
    "from sklearn.metrics import accuracy_score\n",
    "from sklearn.model_selection import train_test_split\n",
    "from sklearn.preprocessing import LabelEncoder\n",
    "from sklearn import metrics \n",
    "from sklearn.metrics import confusion_matrix\n"
   ]
  },
  {
   "cell_type": "code",
   "execution_count": 67,
   "metadata": {},
   "outputs": [],
   "source": [
    "data_set = data"
   ]
  },
  {
   "cell_type": "code",
   "execution_count": null,
   "metadata": {},
   "outputs": [],
   "source": []
  },
  {
   "cell_type": "code",
   "execution_count": 68,
   "metadata": {},
   "outputs": [
    {
     "data": {
      "text/plain": [
       "(155, 18)"
      ]
     },
     "execution_count": 68,
     "metadata": {},
     "output_type": "execute_result"
    }
   ],
   "source": [
    "data_set.shape"
   ]
  },
  {
   "cell_type": "code",
   "execution_count": 69,
   "metadata": {},
   "outputs": [
    {
     "data": {
      "text/html": [
       "<div>\n",
       "<style scoped>\n",
       "    .dataframe tbody tr th:only-of-type {\n",
       "        vertical-align: middle;\n",
       "    }\n",
       "\n",
       "    .dataframe tbody tr th {\n",
       "        vertical-align: top;\n",
       "    }\n",
       "\n",
       "    .dataframe thead th {\n",
       "        text-align: right;\n",
       "    }\n",
       "</style>\n",
       "<table border=\"1\" class=\"dataframe\">\n",
       "  <thead>\n",
       "    <tr style=\"text-align: right;\">\n",
       "      <th></th>\n",
       "      <th>Survived</th>\n",
       "      <th>Age</th>\n",
       "      <th>SibSp</th>\n",
       "      <th>Parch</th>\n",
       "      <th>Fare</th>\n",
       "      <th>Sex_male</th>\n",
       "      <th>Embarked_Q</th>\n",
       "      <th>Embarked_S</th>\n",
       "      <th>Pclass_2</th>\n",
       "      <th>Pclass_3</th>\n",
       "      <th>Age_grp_Children</th>\n",
       "      <th>Age_grp_Oldage</th>\n",
       "      <th>Age_grp_Teenager</th>\n",
       "      <th>Title_Master</th>\n",
       "      <th>Title_Miss</th>\n",
       "      <th>Title_Mr</th>\n",
       "      <th>Title_Mrs</th>\n",
       "      <th>Title_Rev</th>\n",
       "    </tr>\n",
       "  </thead>\n",
       "  <tbody>\n",
       "    <tr>\n",
       "      <th>0</th>\n",
       "      <td>0</td>\n",
       "      <td>22.00</td>\n",
       "      <td>1</td>\n",
       "      <td>0</td>\n",
       "      <td>7.25</td>\n",
       "      <td>1</td>\n",
       "      <td>0</td>\n",
       "      <td>1</td>\n",
       "      <td>0</td>\n",
       "      <td>1</td>\n",
       "      <td>0</td>\n",
       "      <td>0</td>\n",
       "      <td>0</td>\n",
       "      <td>0</td>\n",
       "      <td>0</td>\n",
       "      <td>1</td>\n",
       "      <td>0</td>\n",
       "      <td>0</td>\n",
       "    </tr>\n",
       "    <tr>\n",
       "      <th>1</th>\n",
       "      <td>1</td>\n",
       "      <td>38.00</td>\n",
       "      <td>1</td>\n",
       "      <td>0</td>\n",
       "      <td>71.28</td>\n",
       "      <td>0</td>\n",
       "      <td>0</td>\n",
       "      <td>0</td>\n",
       "      <td>0</td>\n",
       "      <td>0</td>\n",
       "      <td>0</td>\n",
       "      <td>0</td>\n",
       "      <td>0</td>\n",
       "      <td>0</td>\n",
       "      <td>0</td>\n",
       "      <td>0</td>\n",
       "      <td>1</td>\n",
       "      <td>0</td>\n",
       "    </tr>\n",
       "    <tr>\n",
       "      <th>2</th>\n",
       "      <td>1</td>\n",
       "      <td>26.00</td>\n",
       "      <td>0</td>\n",
       "      <td>0</td>\n",
       "      <td>7.92</td>\n",
       "      <td>0</td>\n",
       "      <td>0</td>\n",
       "      <td>1</td>\n",
       "      <td>0</td>\n",
       "      <td>1</td>\n",
       "      <td>0</td>\n",
       "      <td>0</td>\n",
       "      <td>0</td>\n",
       "      <td>0</td>\n",
       "      <td>1</td>\n",
       "      <td>0</td>\n",
       "      <td>0</td>\n",
       "      <td>0</td>\n",
       "    </tr>\n",
       "    <tr>\n",
       "      <th>3</th>\n",
       "      <td>1</td>\n",
       "      <td>35.00</td>\n",
       "      <td>1</td>\n",
       "      <td>0</td>\n",
       "      <td>53.10</td>\n",
       "      <td>0</td>\n",
       "      <td>0</td>\n",
       "      <td>1</td>\n",
       "      <td>0</td>\n",
       "      <td>0</td>\n",
       "      <td>0</td>\n",
       "      <td>0</td>\n",
       "      <td>0</td>\n",
       "      <td>0</td>\n",
       "      <td>0</td>\n",
       "      <td>0</td>\n",
       "      <td>1</td>\n",
       "      <td>0</td>\n",
       "    </tr>\n",
       "    <tr>\n",
       "      <th>4</th>\n",
       "      <td>0</td>\n",
       "      <td>35.00</td>\n",
       "      <td>0</td>\n",
       "      <td>0</td>\n",
       "      <td>8.05</td>\n",
       "      <td>1</td>\n",
       "      <td>0</td>\n",
       "      <td>1</td>\n",
       "      <td>0</td>\n",
       "      <td>1</td>\n",
       "      <td>0</td>\n",
       "      <td>0</td>\n",
       "      <td>0</td>\n",
       "      <td>0</td>\n",
       "      <td>0</td>\n",
       "      <td>1</td>\n",
       "      <td>0</td>\n",
       "      <td>0</td>\n",
       "    </tr>\n",
       "  </tbody>\n",
       "</table>\n",
       "</div>"
      ],
      "text/plain": [
       "   Survived   Age  SibSp  Parch  Fare  Sex_male  Embarked_Q  Embarked_S  \\\n",
       "0         0 22.00      1      0  7.25         1           0           1   \n",
       "1         1 38.00      1      0 71.28         0           0           0   \n",
       "2         1 26.00      0      0  7.92         0           0           1   \n",
       "3         1 35.00      1      0 53.10         0           0           1   \n",
       "4         0 35.00      0      0  8.05         1           0           1   \n",
       "\n",
       "   Pclass_2  Pclass_3  Age_grp_Children  Age_grp_Oldage  Age_grp_Teenager  \\\n",
       "0         0         1                 0               0                 0   \n",
       "1         0         0                 0               0                 0   \n",
       "2         0         1                 0               0                 0   \n",
       "3         0         0                 0               0                 0   \n",
       "4         0         1                 0               0                 0   \n",
       "\n",
       "   Title_Master  Title_Miss  Title_Mr  Title_Mrs  Title_Rev  \n",
       "0             0           0         1          0          0  \n",
       "1             0           0         0          1          0  \n",
       "2             0           1         0          0          0  \n",
       "3             0           0         0          1          0  \n",
       "4             0           0         1          0          0  "
      ]
     },
     "execution_count": 69,
     "metadata": {},
     "output_type": "execute_result"
    }
   ],
   "source": [
    "data_set.head()"
   ]
  },
  {
   "cell_type": "code",
   "execution_count": 70,
   "metadata": {},
   "outputs": [
    {
     "data": {
      "text/plain": [
       "Index(['Age', 'SibSp', 'Parch', 'Fare', 'Sex_male', 'Embarked_Q', 'Embarked_S',\n",
       "       'Pclass_2', 'Pclass_3', 'Age_grp_Children', 'Age_grp_Oldage',\n",
       "       'Age_grp_Teenager', 'Title_Master', 'Title_Miss', 'Title_Mr',\n",
       "       'Title_Mrs', 'Title_Rev'],\n",
       "      dtype='object')"
      ]
     },
     "execution_count": 70,
     "metadata": {},
     "output_type": "execute_result"
    }
   ],
   "source": [
    "# Separating the data from Target Variable\n",
    "X=data_set.iloc[:,1:]\n",
    "X.columns"
   ]
  },
  {
   "cell_type": "code",
   "execution_count": 71,
   "metadata": {},
   "outputs": [],
   "source": [
    "Y=data_set['Survived']"
   ]
  },
  {
   "cell_type": "code",
   "execution_count": 72,
   "metadata": {},
   "outputs": [],
   "source": [
    "x_train, x_test, y_train, y_test = train_test_split(X, Y, test_size=0.2, random_state=1) "
   ]
  },
  {
   "cell_type": "code",
   "execution_count": 73,
   "metadata": {},
   "outputs": [],
   "source": [
    "# try different Naive Bayes methods\n",
    "\n",
    "gnb = GaussianNB() \n",
    "#gnb=BernoulliNB()\n",
    "#gnb=MultinomialNB()"
   ]
  },
  {
   "cell_type": "markdown",
   "metadata": {},
   "source": [
    "## Naive Bayes Algorithm"
   ]
  },
  {
   "cell_type": "markdown",
   "metadata": {},
   "source": [
    "#### We try different Naive Bayes methods\n",
    "1. *Gaussian Naive Bayes Method* - __GaussianNB()__\n",
    "2. *Bernoulli Naive Bayes Method* - __BernoulliNB()__\n",
    "3. *Multinomial Naive Bayes Method* - __MultinomialNB()__\n",
    "\n",
    "And the we will compare the acuuracy and choose the best performing model."
   ]
  },
  {
   "cell_type": "markdown",
   "metadata": {},
   "source": [
    "### Gaussian Naive Bayes Method "
   ]
  },
  {
   "cell_type": "code",
   "execution_count": 74,
   "metadata": {},
   "outputs": [],
   "source": [
    "gnb = GaussianNB() "
   ]
  },
  {
   "cell_type": "code",
   "execution_count": 75,
   "metadata": {},
   "outputs": [
    {
     "name": "stdout",
     "output_type": "stream",
     "text": [
      "Start training...\n",
      "Training time:  0.012 s\n",
      "Accuracy:  74.19354838709677\n"
     ]
    }
   ],
   "source": [
    "print(\"Start training...\")\n",
    "tStart = time()\n",
    "gnb.fit(x_train, y_train)\n",
    "tEnd = time()\n",
    "print(\"Training time: \", round(tEnd-tStart, 3), \"s\")\n",
    "\n",
    "# making predictions on the testing set \n",
    "y_pred = gnb.predict(x_test) \n",
    "print(\"Accuracy: \", metrics.accuracy_score(y_test, y_pred)*100)\n"
   ]
  },
  {
   "cell_type": "code",
   "execution_count": 76,
   "metadata": {
    "scrolled": true
   },
   "outputs": [
    {
     "name": "stdout",
     "output_type": "stream",
     "text": [
      "Confusion Matrix is:\n",
      "[[15  7]\n",
      " [ 1  8]]\n"
     ]
    }
   ],
   "source": [
    "cm=confusion_matrix(y_test,y_pred)\n",
    "print(\"Confusion Matrix is:\", cm, sep='\\n') "
   ]
  },
  {
   "cell_type": "markdown",
   "metadata": {},
   "source": [
    "### Bernoulli Naive Bayes Method"
   ]
  },
  {
   "cell_type": "code",
   "execution_count": 77,
   "metadata": {},
   "outputs": [],
   "source": [
    "bnb=BernoulliNB()"
   ]
  },
  {
   "cell_type": "code",
   "execution_count": 78,
   "metadata": {
    "scrolled": true
   },
   "outputs": [
    {
     "name": "stdout",
     "output_type": "stream",
     "text": [
      "Start training...\n",
      "Training time:  0.013 s\n",
      "Accuracy:  83.87096774193549\n"
     ]
    }
   ],
   "source": [
    "print(\"Start training...\")\n",
    "tStart = time()\n",
    "bnb.fit(x_train, y_train)\n",
    "tEnd = time()\n",
    "print(\"Training time: \", round(tEnd-tStart, 3), \"s\")\n",
    "\n",
    "# making predictions on the testing set \n",
    "y_pred = bnb.predict(x_test) \n",
    "print(\"Accuracy: \", metrics.accuracy_score(y_test, y_pred)*100)\n"
   ]
  },
  {
   "cell_type": "code",
   "execution_count": 79,
   "metadata": {},
   "outputs": [
    {
     "name": "stdout",
     "output_type": "stream",
     "text": [
      "Confusion Matrix is:\n",
      "[[18  4]\n",
      " [ 1  8]]\n"
     ]
    }
   ],
   "source": [
    "cm=confusion_matrix(y_test,y_pred)\n",
    "print(\"Confusion Matrix is:\", cm, sep='\\n') "
   ]
  },
  {
   "cell_type": "markdown",
   "metadata": {},
   "source": [
    "### Multinomial Naive Bayes Method"
   ]
  },
  {
   "cell_type": "code",
   "execution_count": 80,
   "metadata": {},
   "outputs": [],
   "source": [
    "mnb=MultinomialNB()"
   ]
  },
  {
   "cell_type": "code",
   "execution_count": 81,
   "metadata": {},
   "outputs": [
    {
     "name": "stdout",
     "output_type": "stream",
     "text": [
      "Start training...\n",
      "Training time:  0.009 s\n",
      "Accuracy:  64.51612903225806\n"
     ]
    }
   ],
   "source": [
    "print(\"Start training...\")\n",
    "tStart = time()\n",
    "mnb.fit(x_train, y_train)\n",
    "tEnd = time()\n",
    "print(\"Training time: \", round(tEnd-tStart, 3), \"s\")\n",
    "\n",
    "# making predictions on the testing set \n",
    "y_pred = mnb.predict(x_test) \n",
    "print(\"Accuracy: \", metrics.accuracy_score(y_test, y_pred)*100)\n"
   ]
  },
  {
   "cell_type": "code",
   "execution_count": 82,
   "metadata": {},
   "outputs": [
    {
     "name": "stdout",
     "output_type": "stream",
     "text": [
      "Confusion Matrix is:\n",
      "[[17  5]\n",
      " [ 6  3]]\n"
     ]
    }
   ],
   "source": [
    "cm=confusion_matrix(y_test,y_pred)\n",
    "print(\"Confusion Matrix is:\", cm, sep='\\n') "
   ]
  },
  {
   "cell_type": "markdown",
   "metadata": {},
   "source": [
    "## Accuracy Comparision\n",
    "\n",
    "|Method|Model|Accuracy|\n",
    "|------|-----|--------|\n",
    "|GaussianNB()|gnb|74.19|\n",
    "|`BernouliNB()`|`bnb`|`83.87`|\n",
    "|MultinomialNB()|mnb|64.51|\n"
   ]
  },
  {
   "cell_type": "markdown",
   "metadata": {},
   "source": [
    "__So, lets go ahead with Bernouli Naive Bayes method which has highest of 86.87% accuracy and checks its ROC curve.__"
   ]
  },
  {
   "cell_type": "markdown",
   "metadata": {},
   "source": [
    "# ROC Curve"
   ]
  },
  {
   "cell_type": "code",
   "execution_count": 83,
   "metadata": {},
   "outputs": [
    {
     "data": {
      "text/plain": [
       "BernoulliNB(alpha=1.0, binarize=0.0, class_prior=None, fit_prior=True)"
      ]
     },
     "execution_count": 83,
     "metadata": {},
     "output_type": "execute_result"
    }
   ],
   "source": [
    "bnb=BernoulliNB()\n",
    "\n",
    "bnb.fit(x_train, y_train)"
   ]
  },
  {
   "cell_type": "code",
   "execution_count": 84,
   "metadata": {},
   "outputs": [],
   "source": [
    "#Return probability estimates for the test vector \n",
    "\n",
    "probs = bnb.predict_proba(x_test)\n",
    "#probs"
   ]
  },
  {
   "cell_type": "code",
   "execution_count": 85,
   "metadata": {},
   "outputs": [
    {
     "name": "stdout",
     "output_type": "stream",
     "text": [
      "Area under the curve: 0.8686868686868686\n",
      "Threshold: [1.97720866 0.97720866 0.95483339 0.95369388 0.95249475 0.92244317\n",
      " 0.88352286 0.8779638  0.21951334 0.06419383 0.01780974 0.01137909\n",
      " 0.00658338]\n"
     ]
    }
   ],
   "source": [
    "#Keep Probabilities of the positive class only.\n",
    "prob_positive = probs[:,1]\n",
    "\n",
    "fpr, tpr, threshold = metrics.roc_curve(y_test, prob_positive)\n",
    "roc_auc = metrics.auc(fpr, tpr)\n",
    "\n",
    "print('Area under the curve:',roc_auc)\n",
    "print('Threshold:', threshold)\n"
   ]
  },
  {
   "cell_type": "code",
   "execution_count": 86,
   "metadata": {},
   "outputs": [
    {
     "data": {
      "image/png": "[encoded data removed]",
      "text/plain": [
       "<Figure size 432x288 with 1 Axes>"
      ]
     },
     "metadata": {
      "needs_background": "light"
     },
     "output_type": "display_data"
    }
   ],
   "source": [
    "# plot ROC curve\n",
    "import matplotlib.pyplot as plt\n",
    "plt.title('Receiver Operating Characteristic')\n",
    "plt.plot(fpr, tpr, 'green', label = 'AUC = %0.2f' % roc_auc)\n",
    "plt.legend(loc = 'lower right')\n",
    "\n",
    "plt.plot([0, 1], [0, 1], color='red', linestyle='--')\n",
    "plt.ylabel('True Positive Rate')\n",
    "plt.xlabel('False Positive Rate')\n",
    "plt.show()"
   ]
  },
  {
   "cell_type": "code",
   "execution_count": 87,
   "metadata": {},
   "outputs": [],
   "source": [
    "def Conclusion():\n",
    "    \n",
    "    print(\"The Logistic regression model-2 explains {}% of the variablity in the data.\".format(accuracy_logistic_model2*100))\n",
    "    print(\"The Bernouli NB model explains {}% of the variablity in the data.\".format(roc_auc * 100))\n",
    "    \n",
    "    print('\\n\\n\\t\\t\\t\\t*** Thank You!!! ***')"
   ]
  },
  {
   "cell_type": "code",
   "execution_count": 88,
   "metadata": {},
   "outputs": [
    {
     "name": "stdout",
     "output_type": "stream",
     "text": [
      "The Logistic regression model-2 explains 87.09677419354838% of the variablity in the data.\n",
      "The Bernouli NB model explains 86.86868686868686% of the variablity in the data.\n",
      "\n",
      "\n",
      "\t\t\t\t*** Thank You!!! ***\n"
     ]
    }
   ],
   "source": [
    "Conclusion()"
   ]
  }
 ],
 "metadata": {
  "kernelspec": {
   "display_name": "Python 3",
   "language": "python",
   "name": "python3"
  },
  "language_info": {
   "codemirror_mode": {
    "name": "ipython",
    "version": 3
   },
   "file_extension": ".py",
   "mimetype": "text/x-python",
   "name": "python",
   "nbconvert_exporter": "python",
   "pygments_lexer": "ipython3",
   "version": "3.7.6"
  }
 },
 "nbformat": 4,
 "nbformat_minor": 2
}
